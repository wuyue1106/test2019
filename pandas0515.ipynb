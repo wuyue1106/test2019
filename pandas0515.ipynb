{
 "cells": [
  {
   "cell_type": "code",
   "execution_count": 3,
   "metadata": {},
   "outputs": [
    {
     "name": "stdout",
     "output_type": "stream",
     "text": [
      "C:\\Users\\kevin\n"
     ]
    }
   ],
   "source": [
    "import pandas as pd\n",
    "import os\n",
    "path = os.getcwd()\n",
    "print(path)\n",
    "# path_csv= path+r'\\data\\0515.csv'\n",
    "csv_read = pd.read_csv(\"0515.csv\")\n",
    "print(csv_read.head(2))"
   ]
  },
  {
   "cell_type": "code",
   "execution_count": null,
   "metadata": {},
   "outputs": [],
   "source": [
    "# 函数解析：\n",
    "# read_csv(filepath_or_buffer,sep,header,names,skiprows,na_values,encoding,nrows)\n",
    "# 按指定格式读取csv文件。\n",
    "# 常见参数解析：\n",
    "# 1. filepath_or_buffer:字符串，表示文件路径；\n",
    "# 2. sep: 字符串，指定分割符，默认是’,’;\n",
    "# 3. header:数值， 指定第几行作为列名(忽略注解行)，如果没有指定列名，默认header=0; 如果指定了列名header=None;\n",
    "# 4. names: 列表，指定列名，如果文件中不包含header的行，应该显性表示header=None。\n",
    "# 5. skiprows：列表，需要忽略的行数（从0开始），设置的行数将不会进行读取。\n",
    "# 6. na_values：列表，设置需要将值替换成NAN的值，pandas默认NAN为缺省，可以用来处理一些缺省、错误的数值。\n",
    "# 7. encoding：字符串，用于unicode的文本编码格式。例如，\"utf-8\"或\"gbk\"等文本的编码格式。\n",
    "# 8. nrows：需要读取的行数。"
   ]
  },
  {
   "cell_type": "code",
   "execution_count": null,
   "metadata": {},
   "outputs": [],
   "source": [
    "import pandas as pd\n",
    "import os\n",
    "path = os.getcwd()\n",
    "print(path)\n",
    "path_csv = path+r'\\data\\city.csv'\n",
    "# 写入数据（列名+列值）\n",
    "data = {\"站点名\": [\"北京\", \"南京\", \"南昌\"],\n",
    "        \"代号\": [\"BJ\", \"NJ\", \"NC\"]}\n",
    "# 数据初始化为DataFrame对象\n",
    "df = pd.DataFrame(data)\n",
    "# 数据写入\n",
    "df.to_csv(path_csv)\n",
    "print(csv_read.head(2))"
   ]
  },
  {
   "cell_type": "code",
   "execution_count": null,
   "metadata": {},
   "outputs": [],
   "source": [
    "# 函数解析：\n",
    "# to_csv(path_or_buf,sep,na_rep,columns,header,index)\n",
    "# 1. path_or_buf：字符串，文件名、文件具体、相对路径、文件流等；\n",
    "# 2. sep：字符串，文件分割符号；\n",
    "# 3. na_rep：字符串，将NaN转换为特定值；\n",
    "# 4. columns：列表，选择部分列写入；\n",
    "# 5. header：None,写入时忽略列名；\n",
    "# 6. index：False则选择不写入索引,默认为True。"
   ]
  },
  {
   "cell_type": "code",
   "execution_count": null,
   "metadata": {},
   "outputs": [],
   "source": [
    "# CSV\n",
    "# 逗号分隔值（Comma-Separated Values，CSV，有时也称为字符分隔值，因为分隔字符也可以不是逗号），其文件以纯文本形式存储表格数据（数字和文本）。\n",
    "# TSV\n",
    "# TSV 是Tab-separated values的缩写，即制表符分隔值。\n",
    "# Python的csv模块准确的讲应该叫做dsv模块，因为它实际上是支持范式的分隔符分隔值文件（DSV，delimiter-separated values）的。\n",
    "#    delimiter参数值默认为半角逗号，即默认将被处理文件视为CSV。\n",
    "#    当delimiter='\\t'时，被处理文件就是TSV。"
   ]
  },
  {
   "cell_type": "code",
   "execution_count": null,
   "metadata": {},
   "outputs": [],
   "source": [
    "import pandas as pd\n",
    "import os\n",
    "path = os.getcwd()\n",
    "print(path)\n",
    "# 原始数据文件路径\n",
    "rpath_tsv = path+r'\\data\\city_station.tsv'\n",
    "# 读取数据\n",
    "tsv_read = pd.read_csv(rpath_tsv, sep=\"\\t\")\n",
    "# 显示数据前10条\n",
    "print(tsv_read.head(10))"
   ]
  },
  {
   "cell_type": "code",
   "execution_count": null,
   "metadata": {},
   "outputs": [],
   "source": [
    "# 利用pandas读取json文件\n",
    "\n",
    "import pandas as pd\n",
    "import os\n",
    "\n",
    "# 获取当前文件父目录路径\n",
    "path = os.getcwd()\n",
    "# 原始数据文件路径\n",
    "rpath_json = path+r'\\data\\realEstate_trans.json'\n",
    "json_read = pd.read_json(rpath_json)\n",
    "\n",
    "# 输出头10行记录\n",
    "print(json_read.head(10))"
   ]
  },
  {
   "cell_type": "code",
   "execution_count": null,
   "metadata": {},
   "outputs": [],
   "source": [
    "# (1)read_xml(xml_FileName)函数\n",
    "# 功能：读入XML数据，返回pa.DataFrame\n",
    "# 这里利用到了一个轻量级的XML解析器：xml.etree.ElementTree。传入文件名，先读取文件内容，然后利用parse()函数解析XML，创建一个树状结构并存放在tree变量中，在tree对象上调用getroot()方法得到根节点，最后调用iter_records()函数，传入根节点，进而将返回的信息转换成DataFrame。\n",
    "\n",
    "# (2)iter_records(records)函数\n",
    "# 功能：遍历有记录的生成器\n",
    "# iter_records()方法是一个生成器，从关键字yield可以看出来，如果你不了解生成器，可以点击这里,与return不同，生成器每次只向主调方法返回一个值，直到结束。\n",
    "\n",
    "# (3)write_xml(xmlFile, data)函数\n",
    "# 功能：以XML格式保存数据\n",
    "# 这里需要注意的是得按XML文件格式进行保存，我们要做的就是三步：保存头部格式、按格式保存数据、保存尾部格式。保存数据时用到了DataFrame对象的apply()方法，遍历内部每一行，第一个参数xml_encode指定了要应用到每一行记录上的方法，axis=1表示按行处理，默认值为0，表示按列处理。\n",
    "\n",
    "# (4)xml_encode(row)函数\n",
    "# 功能：以特定的嵌套格式将每一行编码成XML\n",
    "# 在写数据的过程我们会调用这个方法，对每行数据进行处理，变成XML格式。"
   ]
  },
  {
   "cell_type": "code",
   "execution_count": null,
   "metadata": {},
   "outputs": [],
   "source": []
  }
 ],
 "metadata": {
  "kernelspec": {
   "display_name": "Python 3",
   "language": "python",
   "name": "python3"
  },
  "language_info": {
   "codemirror_mode": {
    "name": "ipython",
    "version": 3
   },
   "file_extension": ".py",
   "mimetype": "text/x-python",
   "name": "python",
   "nbconvert_exporter": "python",
   "pygments_lexer": "ipython3",
   "version": "3.7.0"
  }
 },
 "nbformat": 4,
 "nbformat_minor": 2
}
